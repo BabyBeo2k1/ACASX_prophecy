{
 "cells": [
  {
   "cell_type": "code",
   "execution_count": 1,
   "metadata": {},
   "outputs": [
    {
     "name": "stdout",
     "output_type": "stream",
     "text": [
      "['(assert', '(<=', 'X_4', '-0.45))']\n"
     ]
    }
   ],
   "source": [
    "x='(assert (<= X_4 -0.45))'\n",
    "print(x.split())"
   ]
  },
  {
   "cell_type": "code",
   "execution_count": 8,
   "metadata": {},
   "outputs": [
    {
     "name": "stdout",
     "output_type": "stream",
     "text": [
      "[[0.0, 0.0, 0.0, 0.0, 0.0, 0.0, 0.0, 0.0, 0.0, 0.0], [0.0, 0.0, 0.0, 0.0, 0.0, 0.0, 0.0, 0.0, 0.0, 0.0]]\n",
      "0.679857769\n",
      "0\n",
      "0.6\n",
      "0.6\n",
      "0.5\n",
      "1\n",
      "-0.5\n",
      "-0.5\n",
      "0.5\n",
      "2\n",
      "-0.5\n",
      "-0.5\n",
      "0.5\n",
      "3\n",
      "0.45\n",
      "0.45\n",
      "-0.45\n",
      "4\n",
      "-0.5\n",
      "-0.5\n",
      "[[0.6, -0.5, -0.5, 0.45, -0.5, 0.0, 0.0, 0.0, 0.0, 0.0], [0.6, -0.5, -0.5, 0.45, -0.5, 0.0, 0.0, 0.0, 0.0, 0.0]]\n"
     ]
    }
   ],
   "source": [
    "bound =[[float(0)]*10]*2\n",
    "print(bound)\n",
    "with open ('test_ip.txt',\"r\") as f:\n",
    "    lines=f.readlines()\n",
    "    for i in range(len(lines)):\n",
    "        \n",
    "        c=lines[i].split()\n",
    "        \n",
    "        if len(c)!=4:\n",
    "            continue\n",
    "        if c[0]==\"(assert\":\n",
    "            if c[2][0]==\"Y\":\n",
    "                break\n",
    "            if c[1]==\"(<=\":\n",
    "                    \n",
    "                print(float(c[3][:-2]))\n",
    "                x=float(c[3][:-2])\n",
    "                bound[1][int(c[2][-1])]=x\n",
    "                print(int(c[2][-1]))\n",
    "            if c[1]==\"(>=\":\n",
    "                    \n",
    "                print(float(c[3][:-2]))\n",
    "                bound[0][int(c[2][-1])]=float(c[3][:-2])\n",
    "                print(bound[0][int(c[2][-1])])\n",
    "print(bound)"
   ]
  },
  {
   "cell_type": "code",
   "execution_count": 6,
   "metadata": {},
   "outputs": [
    {
     "name": "stdout",
     "output_type": "stream",
     "text": [
      "0.01345\n",
      "0.01345\n"
     ]
    }
   ],
   "source": [
    "print(float(\"0.01345\"))\n",
    "x=float(\"0.01345\")\n",
    "print(x)"
   ]
  },
  {
   "cell_type": "code",
   "execution_count": null,
   "metadata": {},
   "outputs": [],
   "source": []
  }
 ],
 "metadata": {
  "kernelspec": {
   "display_name": "deeplearning",
   "language": "python",
   "name": "python3"
  },
  "language_info": {
   "codemirror_mode": {
    "name": "ipython",
    "version": 3
   },
   "file_extension": ".py",
   "mimetype": "text/x-python",
   "name": "python",
   "nbconvert_exporter": "python",
   "pygments_lexer": "ipython3",
   "version": "3.10.9"
  },
  "orig_nbformat": 4
 },
 "nbformat": 4,
 "nbformat_minor": 2
}
